{
  "nbformat": 4,
  "nbformat_minor": 0,
  "metadata": {
    "colab": {
      "provenance": []
    },
    "kernelspec": {
      "name": "python3",
      "display_name": "Python 3"
    },
    "language_info": {
      "name": "python"
    }
  },
  "cells": [
    {
      "cell_type": "code",
      "execution_count": null,
      "metadata": {
        "id": "VTzwD8ud4vxe"
      },
      "outputs": [],
      "source": [
        "#calendar"
      ]
    },
    {
      "cell_type": "code",
      "source": [
        "!pip install schedule plyer\n"
      ],
      "metadata": {
        "colab": {
          "base_uri": "https://localhost:8080/"
        },
        "id": "8NmuKQ8G40Js",
        "outputId": "c6e4e871-cd11-4ac2-d78c-d7043351312f"
      },
      "execution_count": null,
      "outputs": [
        {
          "output_type": "stream",
          "name": "stdout",
          "text": [
            "Collecting schedule\n",
            "  Downloading schedule-1.2.2-py3-none-any.whl.metadata (3.8 kB)\n",
            "Collecting plyer\n",
            "  Downloading plyer-2.1.0-py2.py3-none-any.whl.metadata (61 kB)\n",
            "\u001b[2K     \u001b[90m━━━━━━━━━━━━━━━━━━━━━━━━━━━━━━━━━━━━━━━━\u001b[0m \u001b[32m61.2/61.2 kB\u001b[0m \u001b[31m2.6 MB/s\u001b[0m eta \u001b[36m0:00:00\u001b[0m\n",
            "\u001b[?25hDownloading schedule-1.2.2-py3-none-any.whl (12 kB)\n",
            "Downloading plyer-2.1.0-py2.py3-none-any.whl (142 kB)\n",
            "\u001b[2K   \u001b[90m━━━━━━━━━━━━━━━━━━━━━━━━━━━━━━━━━━━━━━━━\u001b[0m \u001b[32m142.3/142.3 kB\u001b[0m \u001b[31m3.7 MB/s\u001b[0m eta \u001b[36m0:00:00\u001b[0m\n",
            "\u001b[?25hInstalling collected packages: plyer, schedule\n",
            "Successfully installed plyer-2.1.0 schedule-1.2.2\n"
          ]
        }
      ]
    },
    {
      "cell_type": "code",
      "source": [
        "!pip install pytesseract Pillow schedule plyer\n"
      ],
      "metadata": {
        "colab": {
          "base_uri": "https://localhost:8080/"
        },
        "id": "I3eGHKPu48Yk",
        "outputId": "d8659272-daab-4ba5-84a8-c64a4eba669a"
      },
      "execution_count": null,
      "outputs": [
        {
          "output_type": "stream",
          "name": "stdout",
          "text": [
            "Collecting pytesseract\n",
            "  Downloading pytesseract-0.3.13-py3-none-any.whl.metadata (11 kB)\n",
            "Requirement already satisfied: Pillow in /usr/local/lib/python3.10/dist-packages (10.4.0)\n",
            "Requirement already satisfied: schedule in /usr/local/lib/python3.10/dist-packages (1.2.2)\n",
            "Requirement already satisfied: plyer in /usr/local/lib/python3.10/dist-packages (2.1.0)\n",
            "Requirement already satisfied: packaging>=21.3 in /usr/local/lib/python3.10/dist-packages (from pytesseract) (24.1)\n",
            "Downloading pytesseract-0.3.13-py3-none-any.whl (14 kB)\n",
            "Installing collected packages: pytesseract\n",
            "Successfully installed pytesseract-0.3.13\n"
          ]
        }
      ]
    },
    {
      "cell_type": "code",
      "source": [
        "!apt-get install tesseract-ocr\n"
      ],
      "metadata": {
        "colab": {
          "base_uri": "https://localhost:8080/"
        },
        "id": "iP6dbM195Jnn",
        "outputId": "207b9c4f-1a9f-4160-f4ed-75016ab479dd"
      },
      "execution_count": null,
      "outputs": [
        {
          "output_type": "stream",
          "name": "stdout",
          "text": [
            "Reading package lists... Done\n",
            "Building dependency tree... Done\n",
            "Reading state information... Done\n",
            "tesseract-ocr is already the newest version (4.1.1-2.1build1).\n",
            "0 upgraded, 0 newly installed, 0 to remove and 49 not upgraded.\n"
          ]
        }
      ]
    },
    {
      "cell_type": "code",
      "source": [
        "# Install required libraries\n",
        "!pip install pytesseract Pillow schedule\n",
        "!apt-get install tesseract-ocr\n",
        "\n",
        "# Import libraries\n",
        "import pytesseract\n",
        "from PIL import Image\n",
        "import schedule\n",
        "import time\n",
        "from datetime import datetime, timedelta\n",
        "import io # Import io module\n",
        "\n",
        "# Function to perform OCR on an image\n",
        "def extract_text_from_image(image_data):\n",
        "    # Open the image using Pillow, loading from bytes\n",
        "    img = Image.open(io.BytesIO(image_data))\n",
        "    # Use pytesseract to do OCR on the image\n",
        "    text = pytesseract.image_to_string(img)\n",
        "    return text\n",
        "\n",
        "# Function to send medication reminders (print to console)\n",
        "def send_reminder(med_name, dose):\n",
        "    print(f\"Reminder: Take {med_name} {dose}mg.\")\n",
        "\n",
        "# Schedule medication reminders\n",
        "def schedule_medication(med_name, dose, frequency_hours, duration_days):\n",
        "    start_time = datetime.now()\n",
        "    for i in range(int(24 / frequency_hours) * duration_days):\n",
        "        reminder_time = start_time + timedelta(hours=i * frequency_hours)\n",
        "        # Schedule the reminder to print at the specific time\n",
        "        schedule.every().day.at(reminder_time.strftime(\"%H:%M\")).do(send_reminder, med_name=med_name, dose=dose)\n",
        "\n",
        "# Function to process prescription\n",
        "def process_prescription(image_data): # Change to image_data parameter\n",
        "    # Extract text from the prescription image\n",
        "    extracted_text = extract_text_from_image(image_data) # Pass image_data\n",
        "    print(\"Extracted Text:\", extracted_text)\n",
        "\n",
        "    # Example parsing logic (you may need to adjust based on actual text format)\n",
        "    lines = extracted_text.splitlines()\n",
        "    for line in lines:\n",
        "        if \"mg\" in line:\n",
        "            parts = line.split()\n",
        "            med_name = parts[0]  # Assuming the first part is the medication name\n",
        "            dose = int(parts[parts.index(\"mg\") - 1])  # Assuming the dose precedes \"mg\"\n",
        "            # Schedule medication reminders based on extracted information\n",
        "            frequency_hours = 6  # Example frequency\n",
        "            duration_days = 5  # Example duration\n",
        "            schedule_medication(med_name, dose, frequency_hours, duration_days)\n",
        "            print(f\"Scheduled {med_name} ({dose}mg) for reminders.\")\n",
        "\n",
        "# Access the uploaded image data from the 'uploaded' dictionary\n",
        "image_data = uploaded['sample_prescription.png'] # Assuming 'sample_prescription.png' is the key\n",
        "\n",
        "# Process the prescription and schedule reminders, passing image_data\n",
        "process_prescription(image_data) # Pass image_data\n",
        "\n",
        "# Run the scheduler (note: this may not work in Colab due to cloud restrictions)\n",
        "while True:\n",
        "    schedule.run_pending()\n",
        "    time.sleep(60)  # Check every minute\n",
        "\n",
        "\n",
        "\n",
        "\n"
      ],
      "metadata": {
        "colab": {
          "base_uri": "https://localhost:8080/"
        },
        "id": "HWBBf9we5PwU",
        "outputId": "e93d6909-2d57-4d36-b173-b651a27d9193"
      },
      "execution_count": null,
      "outputs": [
        {
          "metadata": {
            "tags": null
          },
          "name": "stdout",
          "output_type": "stream",
          "text": [
            "Requirement already satisfied: pytesseract in /usr/local/lib/python3.10/dist-packages (0.3.13)\n",
            "Requirement already satisfied: Pillow in /usr/local/lib/python3.10/dist-packages (10.4.0)\n",
            "Requirement already satisfied: schedule in /usr/local/lib/python3.10/dist-packages (1.2.2)\n",
            "Requirement already satisfied: packaging>=21.3 in /usr/local/lib/python3.10/dist-packages (from pytesseract) (24.1)\n",
            "Reading package lists... Done\n",
            "Building dependency tree... Done\n",
            "Reading state information... Done\n",
            "tesseract-ocr is already the newest version (4.1.1-2.1build1).\n",
            "0 upgraded, 0 newly installed, 0 to remove and 49 not upgraded.\n",
            "Extracted Text: Presoription\n",
            "\n",
            "Patient mane: John Doe\n",
            "\n",
            "pate: 2024-10-01\n",
            "\n",
            "Medication: snoxieilLin\n",
            "\n",
            "Dosage: 500 ng\n",
            "\n",
            "Frequency: Every 8 hours\n",
            "\n",
            "uration: 7 days\n",
            "\n",
            "Doctor: Dr. snith\n",
            "\f\n"
          ]
        }
      ]
    },
    {
      "cell_type": "code",
      "source": [],
      "metadata": {
        "id": "elia9w-m5V1M"
      },
      "execution_count": null,
      "outputs": []
    }
  ]
}