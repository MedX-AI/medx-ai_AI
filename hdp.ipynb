{
  "nbformat": 4,
  "nbformat_minor": 0,
  "metadata": {
    "colab": {
      "provenance": []
    },
    "kernelspec": {
      "name": "python3",
      "display_name": "Python 3"
    },
    "language_info": {
      "name": "python"
    }
  },
  "cells": [
    {
      "cell_type": "code",
      "execution_count": null,
      "metadata": {
        "colab": {
          "base_uri": "https://localhost:8080/"
        },
        "id": "8lLqkhGd09pv",
        "outputId": "9c760abe-84c5-4d55-d7c2-8dd99925088a"
      },
      "outputs": [
        {
          "output_type": "stream",
          "name": "stdout",
          "text": [
            "Please provide the following details:\n",
            "Age: 2\n",
            "Sex (1 = Male, 0 = Female): 15\n",
            "Chest Pain Type (0, 1, 2, 3): 2\n",
            "Resting Blood Pressure: 3\n",
            "Cholesterol: 156\n",
            "Fasting Blood Sugar > 120 mg/dl (1 = True, 0 = False): 0\n",
            "Resting ECG results (0, 1, 2): 1\n",
            "Max Heart Rate Achieved: 150\n",
            "Exercise-induced Angina (1 = Yes, 0 = No): 1\n",
            "ST Depression Induced by Exercise: 1.5\n",
            "Slope of the Peak Exercise ST Segment (0, 1, 2): 1\n",
            "Number of Major Vessels (0-3): 2\n",
            "Thalassemia (1 = Normal, 2 = Fixed Defect, 3 = Reversible Defect): 1\n",
            "\n",
            "The predicted risk of heart disease is: 87.50%\n"
          ]
        }
      ],
      "source": [
        "\n",
        "def predict_heart_disease_risk():\n",
        "    print(\"Please provide the following details:\")\n",
        "\n",
        "    age = float(input(\"Age: \"))\n",
        "    sex = int(input(\"Sex (1 = Male, 0 = Female): \"))\n",
        "    cp = int(input(\"Chest Pain Type (0, 1, 2, 3): \"))\n",
        "    trestbps = float(input(\"Resting Blood Pressure: \"))\n",
        "    chol = float(input(\"Cholesterol: \"))\n",
        "    fbs = int(input(\"Fasting Blood Sugar > 120 mg/dl (1 = True, 0 = False): \"))\n",
        "    restecg = int(input(\"Resting ECG results (0, 1, 2): \"))\n",
        "    thalach = float(input(\"Max Heart Rate Achieved: \"))\n",
        "    exang = int(input(\"Exercise-induced Angina (1 = Yes, 0 = No): \"))\n",
        "    oldpeak = float(input(\"ST Depression Induced by Exercise: \"))\n",
        "    slope = int(input(\"Slope of the Peak Exercise ST Segment (0, 1, 2): \"))\n",
        "    ca = int(input(\"Number of Major Vessels (0-3): \"))\n",
        "    thal = int(input(\"Thalassemia (1 = Normal, 2 = Fixed Defect, 3 = Reversible Defect): \"))\n",
        "\n",
        "    user_data = pd.DataFrame({\n",
        "        'age': [age], 'trestbps': [trestbps], 'chol': [chol], 'thalach': [thalach], 'oldpeak': [oldpeak],\n",
        "        'sex_0': [1 if sex == 0 else 0], 'sex_1': [1 if sex == 1 else 0],\n",
        "        'cp_0': [1 if cp == 0 else 0], 'cp_1': [1 if cp == 1 else 0], 'cp_2': [1 if cp == 2 else 0], 'cp_3': [1 if cp == 3 else 0],\n",
        "        'fbs_0': [1 if fbs == 0 else 0], 'fbs_1': [1 if fbs == 1 else 0],\n",
        "        'restecg_0': [1 if restecg == 0 else 0], 'restecg_1': [1 if restecg == 1 else 0], 'restecg_2': [1 if restecg == 2 else 0],\n",
        "        'exang_0': [1 if exang == 0 else 0], 'exang_1': [1 if exang == 1 else 0],\n",
        "        'slope_0': [1 if slope == 0 else 0], 'slope_1': [1 if slope == 1 else 0], 'slope_2': [1 if slope == 2 else 0],\n",
        "        'ca_0': [1 if ca == 0 else 0], 'ca_1': [1 if ca == 1 else 0], 'ca_2': [1 if ca == 2 else 0], 'ca_3': [1 if ca == 3 else 0],\n",
        "        'ca_4': [0],\n",
        "        'thal_1': [1 if thal == 1 else 0], 'thal_2': [1 if thal == 2 else 0], 'thal_3': [1 if thal == 3 else 0],\n",
        "        'thal_0': [0]\n",
        "    })\n",
        "\n",
        "    user_data[columns_to_scale] = standardScaler.transform(user_data[columns_to_scale])\n",
        "\n",
        "    user_data = user_data[X_train.columns]\n",
        "\n",
        "    prediction_probability = knn_classifier.predict_proba(user_data)[:, 1]\n",
        "\n",
        "    risk_percentage = prediction_probability[0] * 100\n",
        "\n",
        "    print(f\"\\nThe predicted risk of heart disease is: {risk_percentage:.2f}%\")\n",
        "\n",
        "predict_heart_disease_risk()\n",
        "\n",
        "\n"
      ]
    },
    {
      "cell_type": "code",
      "source": [],
      "metadata": {
        "id": "5vrL2rt-2hyg"
      },
      "execution_count": null,
      "outputs": []
    }
  ]
}